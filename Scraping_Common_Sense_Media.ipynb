{
 "cells": [
  {
   "cell_type": "raw",
   "metadata": {},
   "source": [
    "# This notebook consists of three parts: \n",
    "# (1) Scrape the Common Sense Media webiste for Album Ratings \n",
    "# (2) Divide the albums into groups according to age \n",
    "# (3) Plot the histogram for album data."
   ]
  },
  {
   "cell_type": "markdown",
   "metadata": {},
   "source": [
    "# (1) Scrape the Common Sense Media webiste for Album Ratings"
   ]
  },
  {
   "cell_type": "code",
   "execution_count": 5,
   "metadata": {},
   "outputs": [
    {
     "name": "stdout",
     "output_type": "stream",
     "text": [
      "Obtained the data for 2206 albums.\n",
      "Save the data to Albums.csv.\n"
     ]
    }
   ],
   "source": [
    "import requests\n",
    "%matplotlib inline\n",
    "from IPython.display import Image, display\n",
    "from bs4 import BeautifulSoup\n",
    "import csv\n",
    "\n",
    "n_page = 111\n",
    "url_base = \"https://www.commonsensemedia.org/music-reviews?sort=field_review_recommended_age&order=asc&page=\"\n",
    "count = 0\n",
    "header = ['Age', 'Title', 'Artist', 'Year', 'Description']\n",
    "\n",
    "with open(\"Albums.csv\", \"w\", newline='') as f:\n",
    "    writer = csv.writer(f, delimiter='\\t')\n",
    "    writer.writerow(header) # write the header\n",
    "\n",
    "    for page in range(0, n_page):\n",
    "        url = url_base+str(page)\n",
    "        response = requests.get(url) \n",
    "        soup = BeautifulSoup(response.content, 'html.parser')\n",
    "        tags = soup.find('div', class_ = \"view-content\").findAll('div', recursive = False)  \n",
    "\n",
    "        for tag in tags:\n",
    "            age = tag.find('div', class_=\"csm-green-age\").text\n",
    "            title = tag.find('div', class_=\"title-data-wrapper\").strong.text\n",
    "            artist = tag.find('em', class_ =\"field-content\").text\n",
    "            description = tag.find('div', class_=\"views-field views-field-field-one-liner one-liner\").text\n",
    "            year = tag.find('span', class_=\"nowrap-date\").text\n",
    "            writer.writerow([age, title, artist, year, description])\n",
    "            count += 1\n",
    "\n",
    "print (\"Obtained the data for {} albums.\\nSave the data to {}.\".format(count, \"Albums.csv\"))\n",
    "    "
   ]
  },
  {
   "cell_type": "markdown",
   "metadata": {},
   "source": [
    "# Divide the album into 7 Age-Groups"
   ]
  },
  {
   "cell_type": "code",
   "execution_count": 13,
   "metadata": {},
   "outputs": [
    {
     "data": {
      "text/html": [
       "<div>\n",
       "<style scoped>\n",
       "    .dataframe tbody tr th:only-of-type {\n",
       "        vertical-align: middle;\n",
       "    }\n",
       "\n",
       "    .dataframe tbody tr th {\n",
       "        vertical-align: top;\n",
       "    }\n",
       "\n",
       "    .dataframe thead th {\n",
       "        text-align: right;\n",
       "    }\n",
       "</style>\n",
       "<table border=\"1\" class=\"dataframe\">\n",
       "  <thead>\n",
       "    <tr style=\"text-align: right;\">\n",
       "      <th></th>\n",
       "      <th>Age</th>\n",
       "      <th>Title</th>\n",
       "      <th>Artist</th>\n",
       "      <th>Year</th>\n",
       "      <th>Description</th>\n",
       "      <th>Age Group</th>\n",
       "    </tr>\n",
       "  </thead>\n",
       "  <tbody>\n",
       "    <tr>\n",
       "      <th>0</th>\n",
       "      <td>2</td>\n",
       "      <td>Sesame Street: Halloween Collection</td>\n",
       "      <td>Sesame Street</td>\n",
       "      <td>2012</td>\n",
       "      <td>Playful, not-so-spooky Halloween songs for th...</td>\n",
       "      <td>Toodler</td>\n",
       "    </tr>\n",
       "    <tr>\n",
       "      <th>1</th>\n",
       "      <td>2</td>\n",
       "      <td>A Child's Celebration of Rock 'n' Roll</td>\n",
       "      <td>Various Artists</td>\n",
       "      <td>1996</td>\n",
       "      <td>Songs to get toddlers and teens energized.</td>\n",
       "      <td>Toodler</td>\n",
       "    </tr>\n",
       "    <tr>\n",
       "      <th>2</th>\n",
       "      <td>2</td>\n",
       "      <td>Wake up Jeff</td>\n",
       "      <td>The Wiggles</td>\n",
       "      <td>2000</td>\n",
       "      <td>Songs and scenes certain to keep kids attenti...</td>\n",
       "      <td>Toodler</td>\n",
       "    </tr>\n",
       "    <tr>\n",
       "      <th>3</th>\n",
       "      <td>2</td>\n",
       "      <td>Toot Toot!</td>\n",
       "      <td>The Wiggles</td>\n",
       "      <td>2001</td>\n",
       "      <td>Gets little couch potatoes up and moving.</td>\n",
       "      <td>Toodler</td>\n",
       "    </tr>\n",
       "    <tr>\n",
       "      <th>4</th>\n",
       "      <td>2</td>\n",
       "      <td>A Child's Celebration of Classical Music</td>\n",
       "      <td>Various Artists</td>\n",
       "      <td>1999</td>\n",
       "      <td>Talented celebs promote classics for kids.</td>\n",
       "      <td>Toodler</td>\n",
       "    </tr>\n",
       "  </tbody>\n",
       "</table>\n",
       "</div>"
      ],
      "text/plain": [
       "   Age                                     Title           Artist  Year  \\\n",
       "0    2       Sesame Street: Halloween Collection    Sesame Street  2012   \n",
       "1    2    A Child's Celebration of Rock 'n' Roll  Various Artists  1996   \n",
       "2    2                              Wake up Jeff      The Wiggles  2000   \n",
       "3    2                                Toot Toot!      The Wiggles  2001   \n",
       "4    2  A Child's Celebration of Classical Music  Various Artists  1999   \n",
       "\n",
       "                                         Description Age Group  \n",
       "0   Playful, not-so-spooky Halloween songs for th...   Toodler  \n",
       "1        Songs to get toddlers and teens energized.    Toodler  \n",
       "2   Songs and scenes certain to keep kids attenti...   Toodler  \n",
       "3         Gets little couch potatoes up and moving.    Toodler  \n",
       "4        Talented celebs promote classics for kids.    Toodler  "
      ]
     },
     "execution_count": 13,
     "metadata": {},
     "output_type": "execute_result"
    }
   ],
   "source": [
    "import pandas as pd\n",
    "df = pd.read_csv(\"Albums.csv\", delimiter = \"\\t\")\n",
    "df['Age'] = df['Age'].apply(lambda s: int(s.replace(\"age \",\"\").replace(\"+\",\"\")))\n",
    "\n",
    "def age_group(age):\n",
    "    if age < 4: return \"Toodler\"\n",
    "    elif age < 6: return \"Pre-Schooler\"\n",
    "    elif age < 9: return \"Middle Childhood 1\"\n",
    "    elif age < 12: return \"Middle Childhood 2\"\n",
    "    elif age < 15: return \"Young Teen\"\n",
    "    elif age < 18: return \"Teenager\"\n",
    "    else: return \"Adult\"\n",
    "    \n",
    "df['Age Group'] = df['Age'].apply(age_group)\n",
    "custom_dict = {'Toodler': 0, 'Pre-Schooler': 2, 'Middle Childhood 1': 3,'Middle Childhood 2': 4,\n",
    "               \"Young Teen\": 5, \"Teenager\": 6, \"Adult\": 7 } \n",
    "        \n",
    "df.to_csv(\"Album_AgeGroup.csv\", index = False)\n",
    "\n",
    "df_temp = pd.read_csv(\"Album_AgeGroup.csv\")\n",
    "df_temp.head()"
   ]
  },
  {
   "cell_type": "markdown",
   "metadata": {},
   "source": [
    "# Count the number of albums in each age-group"
   ]
  },
  {
   "cell_type": "code",
   "execution_count": 15,
   "metadata": {},
   "outputs": [
    {
     "data": {
      "image/png": "[encoded data removed]",
      "text/plain": [
       "<Figure size 432x288 with 1 Axes>"
      ]
     },
     "metadata": {
      "needs_background": "light"
     },
     "output_type": "display_data"
    }
   ],
   "source": [
    "df_age = df.groupby('Age Group').size()\n",
    "df_age = df_age.sort_index(key = lambda x: x.map(custom_dict))\n",
    "\n",
    "import matplotlib.pyplot as plt\n",
    "\n",
    "x = df_age.index\n",
    "y = df_age.values\n",
    "ind = range(len(y))\n",
    "\n",
    "fig, ax = plt.subplots()\n",
    "ax.barh(ind, y)\n",
    "ax.set_yticks(ind)\n",
    "ax.set_yticklabels(x)\n",
    "ax.set_xlabel('Number of Albums')\n",
    "ax.set_ylabel('Age Group')\n",
    "plt.savefig(\"plot1_Albums_vs_AgeGroup.jpg\", bbox_inches='tight')\n",
    "plt.show()\n",
    "#plt.gcf().savefig(\"albums.jpg\", bbox_inches='tight')\n"
   ]
  },
  {
   "cell_type": "code",
   "execution_count": null,
   "metadata": {},
   "outputs": [],
   "source": []
  }
 ],
 "metadata": {
  "kernelspec": {
   "display_name": "Python 3",
   "language": "python",
   "name": "python3"
  },
  "language_info": {
   "codemirror_mode": {
    "name": "ipython",
    "version": 3
   },
   "file_extension": ".py",
   "mimetype": "text/x-python",
   "name": "python",
   "nbconvert_exporter": "python",
   "pygments_lexer": "ipython3",
   "version": "3.8.5"
  }
 },
 "nbformat": 4,
 "nbformat_minor": 4
}
